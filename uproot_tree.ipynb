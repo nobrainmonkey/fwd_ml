{
 "cells": [
  {
   "cell_type": "code",
   "execution_count": 1,
   "metadata": {},
   "outputs": [],
   "source": [
    "import uproot as ur \n",
    "import numpy as np\n",
    "import pandas as pd "
   ]
  },
  {
   "cell_type": "code",
   "execution_count": 10,
   "metadata": {},
   "outputs": [
    {
     "name": "stdout",
     "output_type": "stream",
     "text": [
      "name                 | typename                 | interpretation                \n",
      "---------------------+--------------------------+-------------------------------\n",
      "reco                 | int32_t                  | AsDtype('>i4')                \n",
      "reco.fUniqueID       | uint32_t[]               | AsJagged(AsDtype('>u4'))\n",
      "reco.fBits           | uint32_t[]               | AsJagged(AsDtype('>u4'))\n",
      "reco.mProjections    | std::vector<StMuFwdTr... | AsObjects(AsArray(True, Fal...\n",
      "reco.mFTTPoints      | std::vector<StMuFwdTr... | AsObjects(AsArray(True, Fal...\n",
      "reco.mFSTPoints      | std::vector<StMuFwdTr... | AsObjects(AsArray(True, Fal...\n",
      "reco.mEcalClusters   | TRefArray[]              | AsObjects(AsArray(False, Fa...\n",
      "reco.mHcalClusters   | TRefArray[]              | AsObjects(AsArray(False, Fa...\n",
      "reco.mDidFitConverge | bool[]                   | AsJagged(AsDtype('bool'))\n",
      "reco.mDidFitConve... | bool[]                   | AsJagged(AsDtype('bool'))\n",
      "reco.mNumberOfFai... | int16_t[]                | AsJagged(AsDtype('>i2'))\n",
      "reco.mNumberOfSee... | int16_t[]                | AsJagged(AsDtype('>i2'))\n",
      "reco.mNumberOfFit... | int16_t[]                | AsJagged(AsDtype('>i2'))\n",
      "reco.mChi2           | float[]                  | AsJagged(AsDtype('>f4'))\n",
      "reco.mNDF            | float[]                  | AsJagged(AsDtype('>f4'))\n",
      "reco.mPval           | float[]                  | AsJagged(AsDtype('>f4'))\n",
      "reco.mCharge         | int16_t[]                | AsJagged(AsDtype('>i2'))\n",
      "reco.mPrimaryMome... | uint32_t[]               | AsJagged(AsDtype('>u4'))\n",
      "reco.mPrimaryMome... | uint32_t[]               | AsJagged(AsDtype('>u4'))\n",
      "reco.mPrimaryMome... | double[]                 | AsJagged(AsDtype('>f8'))\n",
      "reco.mPrimaryMome... | double[]                 | AsJagged(AsDtype('>f8'))\n",
      "reco.mPrimaryMome... | double[]                 | AsJagged(AsDtype('>f8'))\n",
      "reco.mIdTruth        | uint16_t[]               | AsJagged(AsDtype('>u2'))\n",
      "reco.mQATruth        | uint16_t[]               | AsJagged(AsDtype('>u2'))\n"
     ]
    }
   ],
   "source": [
    "file = ur.open(\"fwdtree.root\")\n",
    "file[\"fwd/reco\"].show()"
   ]
  },
  {
   "cell_type": "code",
   "execution_count": null,
   "metadata": {},
   "outputs": [],
   "source": []
  }
 ],
 "metadata": {
  "kernelspec": {
   "display_name": "ml_env",
   "language": "python",
   "name": "python3"
  },
  "language_info": {
   "codemirror_mode": {
    "name": "ipython",
    "version": 3
   },
   "file_extension": ".py",
   "mimetype": "text/x-python",
   "name": "python",
   "nbconvert_exporter": "python",
   "pygments_lexer": "ipython3",
   "version": "3.9.15"
  }
 },
 "nbformat": 4,
 "nbformat_minor": 2
}
