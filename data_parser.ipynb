{
 "cells": [
  {
   "cell_type": "code",
   "execution_count": 3,
   "metadata": {},
   "outputs": [],
   "source": [
    "import pandas as pd \n",
    "import uproot as ur\n",
    "import numpy as np"
   ]
  },
  {
   "cell_type": "code",
   "execution_count": 4,
   "metadata": {},
   "outputs": [
    {
     "name": "stdout",
     "output_type": "stream",
     "text": [
      "Reading ROOT file\n"
     ]
    },
    {
     "data": {
      "text/html": [
       "<div>\n",
       "<style scoped>\n",
       "    .dataframe tbody tr th:only-of-type {\n",
       "        vertical-align: middle;\n",
       "    }\n",
       "\n",
       "    .dataframe tbody tr th {\n",
       "        vertical-align: top;\n",
       "    }\n",
       "\n",
       "    .dataframe thead th {\n",
       "        text-align: right;\n",
       "    }\n",
       "</style>\n",
       "<table border=\"1\" class=\"dataframe\">\n",
       "  <thead>\n",
       "    <tr style=\"text-align: right;\">\n",
       "      <th></th>\n",
       "      <th>fX</th>\n",
       "      <th>fY</th>\n",
       "      <th>fZ</th>\n",
       "      <th>mQATruth</th>\n",
       "    </tr>\n",
       "  </thead>\n",
       "  <tbody>\n",
       "    <tr>\n",
       "      <th>0</th>\n",
       "      <td>[2.9763989448547363, 4.305664539337158, 4.3056...</td>\n",
       "      <td>[5.708104133605957, 8.257354736328125, 8.25735...</td>\n",
       "      <td>[151.7640380859375, 178.7950439453125, 168.745...</td>\n",
       "      <td>1</td>\n",
       "    </tr>\n",
       "    <tr>\n",
       "      <th>1</th>\n",
       "      <td>[20.780773162841797, 23.651390075683594, 0.197...</td>\n",
       "      <td>[1.1487510204315186, 1.3074373006820679, 6.434...</td>\n",
       "      <td>[153.1590576171875, 180.1900634765625, 151.764...</td>\n",
       "      <td>0</td>\n",
       "    </tr>\n",
       "    <tr>\n",
       "      <th>2</th>\n",
       "      <td>[-12.367856979370117, -14.72852611541748, -7.7...</td>\n",
       "      <td>[8.59738540649414, 10.23837947845459, -9.40523...</td>\n",
       "      <td>[151.7640380859375, 180.1900634765625, 165.260...</td>\n",
       "      <td>0</td>\n",
       "    </tr>\n",
       "    <tr>\n",
       "      <th>3</th>\n",
       "      <td>[8.442672729492188, 11.049135208129883, 11.049...</td>\n",
       "      <td>[3.929877519607544, 5.143128395080566, 5.14312...</td>\n",
       "      <td>[151.7640380859375, 178.7950439453125, 168.745...</td>\n",
       "      <td>1</td>\n",
       "    </tr>\n",
       "    <tr>\n",
       "      <th>4</th>\n",
       "      <td>[0.3816095292568207, 0.3816095292568207, -8.95...</td>\n",
       "      <td>[6.4261794090271, 6.4261794090271, 2.538786411...</td>\n",
       "      <td>[151.7640380859375, 178.7950439453125, 165.262...</td>\n",
       "      <td>0</td>\n",
       "    </tr>\n",
       "  </tbody>\n",
       "</table>\n",
       "</div>"
      ],
      "text/plain": [
       "                                                  fX  \\\n",
       "0  [2.9763989448547363, 4.305664539337158, 4.3056...   \n",
       "1  [20.780773162841797, 23.651390075683594, 0.197...   \n",
       "2  [-12.367856979370117, -14.72852611541748, -7.7...   \n",
       "3  [8.442672729492188, 11.049135208129883, 11.049...   \n",
       "4  [0.3816095292568207, 0.3816095292568207, -8.95...   \n",
       "\n",
       "                                                  fY  \\\n",
       "0  [5.708104133605957, 8.257354736328125, 8.25735...   \n",
       "1  [1.1487510204315186, 1.3074373006820679, 6.434...   \n",
       "2  [8.59738540649414, 10.23837947845459, -9.40523...   \n",
       "3  [3.929877519607544, 5.143128395080566, 5.14312...   \n",
       "4  [6.4261794090271, 6.4261794090271, 2.538786411...   \n",
       "\n",
       "                                                  fZ  mQATruth  \n",
       "0  [151.7640380859375, 178.7950439453125, 168.745...         1  \n",
       "1  [153.1590576171875, 180.1900634765625, 151.764...         0  \n",
       "2  [151.7640380859375, 180.1900634765625, 165.260...         0  \n",
       "3  [151.7640380859375, 178.7950439453125, 168.745...         1  \n",
       "4  [151.7640380859375, 178.7950439453125, 165.262...         0  "
      ]
     },
     "execution_count": 4,
     "metadata": {},
     "output_type": "execute_result"
    }
   ],
   "source": [
    "def root_to_pd(file_path, tree_name, branch_names):\n",
    "    # opening root file\n",
    "    try:\n",
    "        root_file = ur.open(file_path)\n",
    "        print(\"Reading ROOT file\")\n",
    "    except FileNotFoundError:\n",
    "        print(\"File not found!\")\n",
    "    \n",
    "    root_tree = root_file[tree_name]\n",
    "    \n",
    "    branch_values = root_tree.arrays(branch_names,library=\"pd\")\n",
    "\n",
    "    return branch_values\n",
    "    \n",
    "\n",
    "def read_fwd_pd(file_path):\n",
    "    tree_name = \"fwd\"\n",
    "    branch_names = [\"fstHits.mXYZ.fX\",\"fstHits.mXYZ.fY\",\"fstHits.mXYZ.fZ\",\"reco.mQATruth\"]\n",
    "    pd_frame = root_to_pd(file_path,tree_name,branch_names)\n",
    "    qa_vector = pd_frame[\"reco.mQATruth\"] \n",
    "    modified_qa = [len(arr) for arr in qa_vector]\n",
    "    modified_qa = [1 if element == 1 else 0 for element in modified_qa]\n",
    "    pd_frame[\"reco.mQATruth\"] = modified_qa\n",
    "    pd_frame.rename(columns={\"fstHits.mXYZ.fX\":\"fX\",\"fstHits.mXYZ.fY\":\"fY\",\"fstHits.mXYZ.fZ\":\"fZ\",\"reco.mQATruth\":\"mQATruth\"},inplace=True)\n",
    "    return pd_frame\n",
    "    \n",
    "\n",
    "pd_frame = read_fwd_pd(\"fwdtree.root\")\n",
    "\n",
    "pd_frame.to_csv(\"data.csv\")\n",
    "pd_frame.head()"
   ]
  },
  {
   "cell_type": "code",
   "execution_count": 5,
   "metadata": {},
   "outputs": [
    {
     "name": "stderr",
     "output_type": "stream",
     "text": [
      "/home/xihe/anaconda3/envs/ml_env/lib/python3.9/site-packages/sklearn/svm/_classes.py:31: FutureWarning: The default value of `dual` will change from `True` to `'auto'` in 1.5. Set the value of `dual` explicitly to suppress the warning.\n",
      "  warnings.warn(\n"
     ]
    }
   ],
   "source": [
    "#import scikit lean library\n",
    "from sklearn.svm import LinearSVC\n",
    "from sklearn.model_selection import train_test_split\n",
    "\n",
    "np.random.seed =(42)\n",
    "\n",
    "pd_np = pd_frame.to_numpy()\n",
    " \n",
    "pd_flattened = np.array([np.hstack(x) for x in pd_np],dtype=object)\n",
    "\n",
    "X = [arr[:-1] for arr in pd_flattened]\n",
    "max_length = max(len(x) for x in X)\n",
    "def pad_sequences(sequences, maxlen, value=0):\n",
    "    return np.array([np.pad(seq, (0, maxlen - len(seq)), 'constant', constant_values=value) for seq in sequences])\n",
    "\n",
    "X_padded = pad_sequences(X, max_length)\n",
    "y = [arr[-1] for arr in pd_flattened]\n",
    "\n",
    "X_train, X_test, y_train, y_test = train_test_split(X_padded,y,test_size=0.2)\n",
    "\n",
    "clf = LinearSVC(max_iter=1000)\n",
    "clf.fit(X_train,y_train)\n",
    "\n",
    "clf.score(X_test,y_test)\n",
    "\n"
   ]
  },
  {
   "cell_type": "code",
   "execution_count": null,
   "metadata": {},
   "outputs": [
    {
     "data": {
      "text/plain": [
       "0.9629629629629629"
      ]
     },
     "execution_count": 148,
     "metadata": {},
     "output_type": "execute_result"
    }
   ],
   "source": [
    "from sklearn.ensemble import RandomForestClassifier\n",
    "clf = RandomForestClassifier(n_estimators=100)\n",
    "clf.fit(X_train, y_train)\n",
    "clf.score(X_test,y_test)\n"
   ]
  },
  {
   "cell_type": "code",
   "execution_count": null,
   "metadata": {},
   "outputs": [
    {
     "ename": "NameError",
     "evalue": "name 'X_padded' is not defined",
     "output_type": "error",
     "traceback": [
      "\u001b[0;31m---------------------------------------------------------------------------\u001b[0m",
      "\u001b[0;31mNameError\u001b[0m                                 Traceback (most recent call last)",
      "Cell \u001b[0;32mIn[2], line 4\u001b[0m\n\u001b[1;32m      2\u001b[0m \u001b[38;5;28;01mfrom\u001b[39;00m \u001b[38;5;21;01mcollections\u001b[39;00m \u001b[38;5;28;01mimport\u001b[39;00m Counter\n\u001b[1;32m      3\u001b[0m smote \u001b[38;5;241m=\u001b[39m SMOTE(sampling_strategy\u001b[38;5;241m=\u001b[39m\u001b[38;5;124m'\u001b[39m\u001b[38;5;124mauto\u001b[39m\u001b[38;5;124m'\u001b[39m, random_state\u001b[38;5;241m=\u001b[39m\u001b[38;5;241m42\u001b[39m)\n\u001b[0;32m----> 4\u001b[0m X_resampled, y_resampled \u001b[38;5;241m=\u001b[39m smote\u001b[38;5;241m.\u001b[39mfit_resample(\u001b[43mX_padded\u001b[49m, y)\n",
      "\u001b[0;31mNameError\u001b[0m: name 'X_padded' is not defined"
     ]
    }
   ],
   "source": [
    "from imblearn.over_sampling import SMOTE \n",
    "from collections import Counter\n",
    "smote = SMOTE(sampling_strategy='auto', random_state=42)\n",
    "X_resampled, y_resampled = smote.fit_resample(X_padded, y)\n",
    "\n",
    "\n"
   ]
  },
  {
   "cell_type": "code",
   "execution_count": null,
   "metadata": {},
   "outputs": [],
   "source": []
  }
 ],
 "metadata": {
  "kernelspec": {
   "display_name": "ml_env",
   "language": "python",
   "name": "python3"
  },
  "language_info": {
   "codemirror_mode": {
    "name": "ipython",
    "version": 3
   },
   "file_extension": ".py",
   "mimetype": "text/x-python",
   "name": "python",
   "nbconvert_exporter": "python",
   "pygments_lexer": "ipython3",
   "version": "3.9.19"
  }
 },
 "nbformat": 4,
 "nbformat_minor": 2
}
