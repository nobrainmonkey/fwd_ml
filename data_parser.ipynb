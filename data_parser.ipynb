{
 "cells": [
  {
   "cell_type": "code",
   "execution_count": 114,
   "metadata": {},
   "outputs": [],
   "source": [
    "import pandas as pd \n",
    "import uproot as ur\n",
    "import numpy as np\n",
    "import awkward as ak\n",
    "from sklearn.utils import shuffle\n"
   ]
  },
  {
   "cell_type": "code",
   "execution_count": 115,
   "metadata": {},
   "outputs": [
    {
     "name": "stdout",
     "output_type": "stream",
     "text": [
      "Reading ROOT file\n"
     ]
    }
   ],
   "source": [
    "def root_to_pd(file_path, tree_name, branch_names):\n",
    "    try:\n",
    "        # Opening the ROOT file\n",
    "        root_file = ur.open(file_path)\n",
    "        print(\"Reading ROOT file\")\n",
    "        \n",
    "        # Accessing the tree\n",
    "        if tree_name not in root_file:\n",
    "            print(f\"Tree '{tree_name}' not found in the file!\")\n",
    "            return None\n",
    "        \n",
    "        root_tree = root_file[tree_name]\n",
    "        \n",
    "        # Reading branches into a dictionary of arrays\n",
    "        branch_values = root_tree.arrays(branch_names, library=\"np\")\n",
    "        \n",
    "        # Converting the dictionary of arrays to a DataFrame\n",
    "        df = pd.DataFrame({name: branch_values[name] for name in branch_names})\n",
    "        return df\n",
    "    \n",
    "    except FileNotFoundError:\n",
    "        print(\"File not found!\")\n",
    "        return None\n",
    "    except Exception as e:\n",
    "        print(f\"An error occurred: {e}\")\n",
    "        return None\n",
    "\n",
    "def read_fwd_pd(file_path):\n",
    "    tree_name = \"fwd\"\n",
    "    branch_names = [\"fstHits.mXYZ.fX\", \"fstHits.mXYZ.fY\", \"fstHits.mXYZ.fZ\", \"mcTracks.mPxyz.mX1\",\"mcTracks.mPxyz.mX2\",\"mcTracks.mPxyz.mX3\",\"mcTracks.mId\",\"fstHits.mIdTruth\", \"seeds.mTrackId\"]\n",
    "    pd_frame = root_to_pd(file_path, tree_name, branch_names)\n",
    "    \n",
    "    if pd_frame is not None:\n",
    "        pd_frame.rename(columns={\n",
    "            \"fstHits.mXYZ.fX\": \"fX\",\n",
    "            \"fstHits.mXYZ.fY\": \"fY\",\n",
    "            \"fstHits.mXYZ.fZ\": \"fZ\",\n",
    "            \"reco.mIdTruth\": \"mIdTruth\",\n",
    "            \"seeds.mTrackId\":\"trackID\"\n",
    "        }, inplace=True)\n",
    "    \n",
    "    return pd_frame\n",
    "\n",
    "pd_frame = read_fwd_pd(\"fwdtree.root\")\n",
    "\n",
    "if pd_frame is not None:\n",
    "    pd_frame.to_csv(\"data.csv\")\n",
    "else:\n",
    "    print(\"Failed to read and process the ROOT file.\")\n",
    "\n"
   ]
  },
  {
   "cell_type": "code",
   "execution_count": 116,
   "metadata": {},
   "outputs": [],
   "source": [
    "file = ur.open(\"fwdtree.root\")\n",
    "tree = file[\"fwd\"]\n",
    "branch_names = [\"fstHits.mXYZ.fX\", \"fstHits.mXYZ.fY\", \"fstHits.mXYZ.fZ\",\"mcTracks.mPxyz.mX1\",\"mcTracks.mPxyz.mX2\",\"mcTracks.mPxyz.mX3\",\"mcTracks.mId\",\"fstHits.mIdTruth\"]"
   ]
  },
  {
   "cell_type": "code",
   "execution_count": 117,
   "metadata": {},
   "outputs": [],
   "source": [
    "branches = tree.arrays(branch_names)\n",
    "def read_tracks_from_branch(branch):\n",
    "    track_list = []\n",
    "    used_branch_id = []\n",
    "    branch_ids = branch[\"fstHits.mIdTruth\"]\n",
    "    \n",
    "    for branch_id in branch_ids:\n",
    "        if branch_id not in used_branch_id:\n",
    "            index_track = ak.where(branch_id == branch[\"fstHits.mIdTruth\"])[0]  # Ensure the indices are flattened\n",
    "            pos_x, pos_y, pos_z = [], [], []\n",
    "            \n",
    "            for index in index_track:\n",
    "                pos_x.append(branch[\"fstHits.mXYZ.fX\"][index])\n",
    "                pos_y.append(branch[\"fstHits.mXYZ.fY\"][index])\n",
    "                pos_z.append(branch[\"fstHits.mXYZ.fZ\"][index])\n",
    "            \n",
    "            combined = list(zip(pos_x, pos_y, pos_z))\n",
    "            track_list.append(combined)\n",
    "            used_branch_id.append(branch_id)\n",
    "    \n",
    "    return track_list"
   ]
  },
  {
   "cell_type": "code",
   "execution_count": 118,
   "metadata": {},
   "outputs": [],
   "source": [
    "def read_tracks_from_branches(branches):\n",
    "    all_tracks = []\n",
    "    for branch in branches:\n",
    "        branch_tracks = read_tracks_from_branch(branch)\n",
    "        all_tracks.extend(branch_tracks)\n",
    "    return all_tracks\n",
    "\n",
    "def filter_tracks_by_length(tracks,valid_lengths=(2,3)):\n",
    "    return [track for track in tracks if len(track) in valid_lengths]\n",
    "\n",
    "def pad_track_list_by_nan(track_list):\n",
    "    padded_tracks = []\n",
    "    for hits in track_list:\n",
    "        padding_num = 3 - len(hits)\n",
    "        padded_hits = hits + [(np.nan, np.nan, np.nan)] * padding_num\n",
    "        padded_tracks.append(padded_hits)\n",
    "    return padded_tracks\n",
    "\n",
    "def sort_subarrays_by_z(arr):\n",
    "    sorted_arr = []\n",
    "    for subarray in arr:\n",
    "        nan_mask = np.isnan(subarray).all(axis=1)\n",
    "        non_nan_entries = subarray[~nan_mask]\n",
    "        nan_entries = subarray[nan_mask]\n",
    "        sorted_non_nan_entries = non_nan_entries[non_nan_entries[:, 2].argsort()]\n",
    "        sorted_subarray = np.vstack((sorted_non_nan_entries, nan_entries))\n",
    "        sorted_arr.append(sorted_subarray)\n",
    "    return np.array(sorted_arr)\n",
    "\n",
    "def process_tracks(branches):\n",
    "    # Read and combine tracks from all branches\n",
    "    all_tracks = []\n",
    "    for branch in branches:\n",
    "        branch_tracks = read_tracks_from_branch(branch)\n",
    "        all_tracks.extend(branch_tracks)\n",
    "\n",
    "    # Filter tracks based on their length\n",
    "    filtered_tracks = filter_tracks_by_length(all_tracks)\n",
    "\n",
    "    # Pad the tracks\n",
    "    padded_tracks = pad_track_list_by_nan(filtered_tracks)\n",
    "\n",
    "    # Sort the subarrays by the z-coordinate\n",
    "    sorted_tracks = sort_subarrays_by_z(np.array(padded_tracks))\n",
    "\n",
    "    return np.array(sorted_tracks)\n",
    "    "
   ]
  },
  {
   "cell_type": "code",
   "execution_count": 119,
   "metadata": {},
   "outputs": [],
   "source": [
    "track_list = process_tracks(branches)"
   ]
  },
  {
   "cell_type": "code",
   "execution_count": 120,
   "metadata": {},
   "outputs": [],
   "source": [
    "def append_true_track_feature(track_list):\n",
    "    all_track = []\n",
    "    for track in track_list:\n",
    "        all_track.append(np.append(track,1))\n",
    "    return np.array(all_track)\n",
    "\n",
    "def make_fake_tracks_from_list(n,track_list,seed=0):\n",
    "    fake_track_list = []\n",
    "    random_min = 0\n",
    "    random_max = len(track_list)\n",
    "    np.random.seed(seed)\n",
    "    while len(fake_track_list) < n:\n",
    "        rng_track_indecies = np.random.randint(random_min,random_max,3)\n",
    "        fake_layer_1 = track_list[rng_track_indecies[0]][0]\n",
    "        fake_layer_2 = track_list[rng_track_indecies[1]][1]\n",
    "        fake_layer_3 = track_list[rng_track_indecies[2]][2]\n",
    "        fake_hit = np.concatenate((fake_layer_1,fake_layer_2,fake_layer_3),axis=0)  \n",
    "        fake_track_list.append(np.append(fake_hit,0))\n",
    "    return np.array(fake_track_list)"
   ]
  },
  {
   "cell_type": "code",
   "execution_count": 139,
   "metadata": {},
   "outputs": [],
   "source": [
    "fake_track_list = make_fake_tracks_from_list(len(track_list),track_list)\n",
    "mc_track_list = append_true_track_feature(track_list)\n",
    "mc_and_fake_unshuffled = np.concatenate((fake_track_list,mc_track_list))\n",
    "mc_and_fake_shuffled = shuffle(mc_and_fake_unshuffled)\n",
    "training_frame = pd.DataFrame({'Truth':mc_and_fake_shuffled[:,-1],\n",
    "                               'L1X':mc_and_fake_shuffled[:,0],'L1Y':mc_and_fake_shuffled[:,1],'L1Z':mc_and_fake_shuffled[:,2]\n",
    "                               ,'L2X':mc_and_fake_shuffled[:,3],'L2Y':mc_and_fake_shuffled[:,4],'L2Z':mc_and_fake_shuffled[:,5]\n",
    "                               ,'L3X':mc_and_fake_shuffled[:,6],'L3Y':mc_and_fake_shuffled[:,7],'L3Z':mc_and_fake_shuffled[:,8]\n",
    "                               })\n",
    "training_features = training_frame.drop(\"Truth\",axis=1)\n",
    "training_labels = training_frame[\"Truth\"]"
   ]
  },
  {
   "cell_type": "code",
   "execution_count": 140,
   "metadata": {},
   "outputs": [],
   "source": [
    "def linear_fit(row, col1, col2, col3):\n",
    "    if pd.isna(row[col3]):\n",
    "        return 2 * row[col2] - row[col1]\n",
    "    return row[col3]\n",
    "\n",
    "def linear_fit_implace(training_features):\n",
    "    training_features['L3X'] = training_features.apply(lambda row: linear_fit(row, 'L1X','L2X','L3X'),axis=1)\n",
    "    training_features['L3Y'] = training_features.apply(lambda row: linear_fit(row, 'L1Y','L2Y','L3Y'),axis=1)\n",
    "    training_features['L3Z'] = training_features.apply(lambda row: linear_fit(row, 'L1Z','L2Z','L3Z'),axis=1)\n",
    "    return training_features\n",
    "\n",
    "training_features = linear_fit_implace(training_features)"
   ]
  },
  {
   "cell_type": "markdown",
   "metadata": {},
   "source": [
    "# Cartesian XYZ"
   ]
  },
  {
   "cell_type": "code",
   "execution_count": 156,
   "metadata": {},
   "outputs": [
    {
     "name": "stdout",
     "output_type": "stream",
     "text": [
      "0.9206161137440758\n"
     ]
    }
   ],
   "source": [
    "from sklearn.tree import DecisionTreeClassifier\n",
    "from sklearn.model_selection import train_test_split\n",
    "\n",
    "X_train, X_test, y_train, y_test = train_test_split(training_features, training_labels)\n",
    "clf = DecisionTreeClassifier(random_state=0,max_depth=50,min_samples_split=10,min_samples_leaf=10,max_features='log2')\n",
    "clf.fit(X_train, y_train)\n",
    "print(clf.score(X_test, y_test))"
   ]
  },
  {
   "cell_type": "code",
   "execution_count": 168,
   "metadata": {},
   "outputs": [
    {
     "name": "stdout",
     "output_type": "stream",
     "text": [
      "0.9680094786729858\n"
     ]
    }
   ],
   "source": [
    "from sklearn.ensemble import RandomForestClassifier\n",
    "from sklearn.model_selection import train_test_split\n",
    "\n",
    "X_train, X_test, y_train, y_test = train_test_split(training_features, training_labels)\n",
    "clf = RandomForestClassifier(random_state=0)\n",
    "clf.fit(X_train, y_train)\n",
    "print(clf.score(X_test, y_test))"
   ]
  },
  {
   "cell_type": "code",
   "execution_count": 167,
   "metadata": {},
   "outputs": [
    {
     "name": "stdout",
     "output_type": "stream",
     "text": [
      "0.9478672985781991\n"
     ]
    }
   ],
   "source": [
    "from sklearn.ensemble import GradientBoostingClassifier\n",
    "from sklearn.model_selection import train_test_split\n",
    "\n",
    "X_train, X_test, y_train, y_test = train_test_split(training_features, training_labels)\n",
    "clf = GradientBoostingClassifier(random_state=0)\n",
    "clf.fit(X_train, y_train)\n",
    "print(clf.score(X_test, y_test))"
   ]
  },
  {
   "cell_type": "code",
   "execution_count": 170,
   "metadata": {},
   "outputs": [
    {
     "name": "stdout",
     "output_type": "stream",
     "text": [
      "0.9774881516587678\n"
     ]
    }
   ],
   "source": [
    "from sklearn.neural_network import MLPClassifier\n",
    "from sklearn.model_selection import train_test_split\n",
    "from sklearn.preprocessing import StandardScaler\n",
    "X_train, X_test, y_train, y_test = train_test_split(training_features, training_labels)\n",
    "scaler = StandardScaler()\n",
    "X_train = scaler.fit_transform(X_train)\n",
    "X_test = scaler.transform(X_test)\n",
    "clf = MLPClassifier(\n",
    "    hidden_layer_sizes=(50, 50),\n",
    "    activation='relu',\n",
    "    solver='adam',\n",
    "    alpha=0.0001,\n",
    "    batch_size='auto',\n",
    "    learning_rate='constant',\n",
    "    learning_rate_init=0.001,\n",
    "    max_iter=1000,\n",
    "    random_state=1\n",
    ")\n",
    "clf.fit(X_train, y_train)\n",
    "print(clf.score(X_test, y_test))"
   ]
  },
  {
   "cell_type": "markdown",
   "metadata": {},
   "source": [
    "# Cartesian XY"
   ]
  },
  {
   "cell_type": "code",
   "execution_count": 172,
   "metadata": {},
   "outputs": [],
   "source": [
    "track_list = process_tracks(branches)\n",
    "fake_track_list = make_fake_tracks_from_list(len(track_list),track_list)\n",
    "mc_track_list = append_true_track_feature(track_list)\n",
    "mc_and_fake_unshuffled = np.concatenate((fake_track_list,mc_track_list))\n",
    "mc_and_fake_shuffled = shuffle(mc_and_fake_unshuffled)\n",
    "training_frame = pd.DataFrame({'Truth':mc_and_fake_shuffled[:,-1],\n",
    "                               'L1X':mc_and_fake_shuffled[:,0],'L1Y':mc_and_fake_shuffled[:,1],'L1Z':mc_and_fake_shuffled[:,2]\n",
    "                               ,'L2X':mc_and_fake_shuffled[:,3],'L2Y':mc_and_fake_shuffled[:,4],'L2Z':mc_and_fake_shuffled[:,5]\n",
    "                               ,'L3X':mc_and_fake_shuffled[:,6],'L3Y':mc_and_fake_shuffled[:,7],'L3Z':mc_and_fake_shuffled[:,8]\n",
    "                               })\n",
    "training_features = training_frame.drop(\"Truth\",axis=1)\n",
    "training_labels = training_frame[\"Truth\"]\n",
    "training_features = linear_fit_implace(training_features)\n",
    "training_features = training_features.drop(['L1Z','L2Z','L3Z'],axis=1)\n"
   ]
  },
  {
   "cell_type": "code",
   "execution_count": 182,
   "metadata": {},
   "outputs": [
    {
     "name": "stdout",
     "output_type": "stream",
     "text": [
      "0.9247630331753555\n"
     ]
    }
   ],
   "source": [
    "from sklearn.tree import DecisionTreeClassifier\n",
    "from sklearn.model_selection import train_test_split\n",
    "\n",
    "X_train, X_test, y_train, y_test = train_test_split(training_features, training_labels)\n",
    "clf = DecisionTreeClassifier(random_state=0,max_depth=50,min_samples_split=10,min_samples_leaf=10,max_features='log2')\n",
    "clf.fit(X_train, y_train)\n",
    "print(clf.score(X_test, y_test))"
   ]
  },
  {
   "cell_type": "code",
   "execution_count": 187,
   "metadata": {},
   "outputs": [
    {
     "name": "stdout",
     "output_type": "stream",
     "text": [
      "0.9674170616113744\n"
     ]
    }
   ],
   "source": [
    "from sklearn.ensemble import RandomForestClassifier\n",
    "from sklearn.model_selection import train_test_split\n",
    "\n",
    "X_train, X_test, y_train, y_test = train_test_split(training_features, training_labels)\n",
    "clf = RandomForestClassifier(random_state=0)\n",
    "clf.fit(X_train, y_train)\n",
    "print(clf.score(X_test, y_test))"
   ]
  },
  {
   "cell_type": "code",
   "execution_count": 190,
   "metadata": {},
   "outputs": [
    {
     "name": "stdout",
     "output_type": "stream",
     "text": [
      "0.9354265402843602\n"
     ]
    }
   ],
   "source": [
    "from sklearn.ensemble import GradientBoostingClassifier\n",
    "from sklearn.model_selection import train_test_split\n",
    "\n",
    "X_train, X_test, y_train, y_test = train_test_split(training_features, training_labels)\n",
    "clf = GradientBoostingClassifier(random_state=0)\n",
    "clf.fit(X_train, y_train)\n",
    "print(clf.score(X_test, y_test))"
   ]
  },
  {
   "cell_type": "code",
   "execution_count": 191,
   "metadata": {},
   "outputs": [
    {
     "name": "stdout",
     "output_type": "stream",
     "text": [
      "0.966824644549763\n"
     ]
    }
   ],
   "source": [
    "from sklearn.neural_network import MLPClassifier\n",
    "from sklearn.model_selection import train_test_split\n",
    "from sklearn.preprocessing import StandardScaler\n",
    "X_train, X_test, y_train, y_test = train_test_split(training_features, training_labels)\n",
    "scaler = StandardScaler()\n",
    "X_train = scaler.fit_transform(X_train)\n",
    "X_test = scaler.transform(X_test)\n",
    "clf = MLPClassifier(\n",
    "    hidden_layer_sizes=(50, 50),\n",
    "    activation='relu',\n",
    "    solver='adam',\n",
    "    alpha=0.0001,\n",
    "    batch_size='auto',\n",
    "    learning_rate='constant',\n",
    "    learning_rate_init=0.001,\n",
    "    max_iter=1000,\n",
    "    random_state=1\n",
    ")\n",
    "clf.fit(X_train, y_train)\n",
    "print(clf.score(X_test, y_test))"
   ]
  },
  {
   "cell_type": "markdown",
   "metadata": {},
   "source": [
    "# Polar"
   ]
  },
  {
   "cell_type": "code",
   "execution_count": 195,
   "metadata": {},
   "outputs": [],
   "source": [
    "def cartesian_to_polar(row):\n",
    "    R1 = np.sqrt(row['L1X']**2 + row['L1Y']**2)\n",
    "    theta1 = np.arctan2(row['L1Y'],row['L1X'])\n",
    "    R2 = np.sqrt(row['L2X']**2 + row['L2Y']**2)\n",
    "    theta2 = np.arctan2(row['L2Y'],row['L2X'])\n",
    "    R3 = np.sqrt(row['L3X']**2 + row['L3Y']**2)\n",
    "    theta3 = np.arctan2(row['L3Y'],row['L3X'])\n",
    "    return pd.Series([R1, theta1, R2, theta2, R3, theta3], index=['R1', 'theta1', 'R2', 'theta2', 'R3', 'theta3'])\n",
    "\n",
    "track_list = process_tracks(branches)\n",
    "fake_track_list = make_fake_tracks_from_list(len(track_list),track_list)\n",
    "mc_track_list = append_true_track_feature(track_list)\n",
    "mc_and_fake_unshuffled = np.concatenate((fake_track_list,mc_track_list))\n",
    "mc_and_fake_shuffled = shuffle(mc_and_fake_unshuffled)\n",
    "training_frame = pd.DataFrame({'Truth':mc_and_fake_shuffled[:,-1],\n",
    "                               'L1X':mc_and_fake_shuffled[:,0],'L1Y':mc_and_fake_shuffled[:,1],'L1Z':mc_and_fake_shuffled[:,2]\n",
    "                               ,'L2X':mc_and_fake_shuffled[:,3],'L2Y':mc_and_fake_shuffled[:,4],'L2Z':mc_and_fake_shuffled[:,5]\n",
    "                               ,'L3X':mc_and_fake_shuffled[:,6],'L3Y':mc_and_fake_shuffled[:,7],'L3Z':mc_and_fake_shuffled[:,8]\n",
    "                               })\n",
    "training_features = training_frame.drop(\"Truth\",axis=1)\n",
    "training_labels = training_frame[\"Truth\"]\n",
    "training_features = linear_fit_implace(training_features)\n",
    "training_features = training_features.drop(['L1Z','L2Z','L3Z'],axis=1)\n",
    "training_features = training_features.apply(cartesian_to_polar, axis=1)"
   ]
  },
  {
   "cell_type": "code",
   "execution_count": 208,
   "metadata": {},
   "outputs": [
    {
     "name": "stdout",
     "output_type": "stream",
     "text": [
      "0.9152843601895735\n"
     ]
    }
   ],
   "source": [
    "from sklearn.tree import DecisionTreeClassifier\n",
    "from sklearn.model_selection import train_test_split\n",
    "\n",
    "X_train, X_test, y_train, y_test = train_test_split(training_features, training_labels)\n",
    "clf = DecisionTreeClassifier(random_state=0,max_depth=50,min_samples_split=10,min_samples_leaf=10,max_features='log2')\n",
    "clf.fit(X_train, y_train)\n",
    "print(clf.score(X_test, y_test))"
   ]
  },
  {
   "cell_type": "code",
   "execution_count": 199,
   "metadata": {},
   "outputs": [
    {
     "name": "stdout",
     "output_type": "stream",
     "text": [
      "0.9561611374407583\n"
     ]
    }
   ],
   "source": [
    "from sklearn.ensemble import RandomForestClassifier\n",
    "from sklearn.model_selection import train_test_split\n",
    "\n",
    "X_train, X_test, y_train, y_test = train_test_split(training_features, training_labels)\n",
    "clf = RandomForestClassifier(random_state=0)\n",
    "clf.fit(X_train, y_train)\n",
    "print(clf.score(X_test, y_test))"
   ]
  },
  {
   "cell_type": "code",
   "execution_count": 217,
   "metadata": {},
   "outputs": [
    {
     "name": "stdout",
     "output_type": "stream",
     "text": [
      "0.9229857819905213\n"
     ]
    }
   ],
   "source": [
    "from sklearn.ensemble import GradientBoostingClassifier\n",
    "from sklearn.model_selection import train_test_split\n",
    "\n",
    "X_train, X_test, y_train, y_test = train_test_split(training_features, training_labels)\n",
    "clf = GradientBoostingClassifier(random_state=0)\n",
    "clf.fit(X_train, y_train)\n",
    "print(clf.score(X_test, y_test))"
   ]
  },
  {
   "cell_type": "code",
   "execution_count": 218,
   "metadata": {},
   "outputs": [
    {
     "name": "stdout",
     "output_type": "stream",
     "text": [
      "0.9614928909952607\n"
     ]
    }
   ],
   "source": [
    "from sklearn.neural_network import MLPClassifier\n",
    "from sklearn.model_selection import train_test_split\n",
    "from sklearn.preprocessing import StandardScaler\n",
    "X_train, X_test, y_train, y_test = train_test_split(training_features, training_labels)\n",
    "scaler = StandardScaler()\n",
    "X_train = scaler.fit_transform(X_train)\n",
    "X_test = scaler.transform(X_test)\n",
    "clf = MLPClassifier(\n",
    "    hidden_layer_sizes=(50, 50),\n",
    "    activation='relu',\n",
    "    solver='adam',\n",
    "    alpha=0.0001,\n",
    "    batch_size='auto',\n",
    "    learning_rate='constant',\n",
    "    learning_rate_init=0.001,\n",
    "    max_iter=1000,\n",
    "    random_state=1\n",
    ")\n",
    "clf.fit(X_train, y_train)\n",
    "print(clf.score(X_test, y_test))"
   ]
  },
  {
   "cell_type": "markdown",
   "metadata": {},
   "source": [
    "# Cylindrical"
   ]
  },
  {
   "cell_type": "code",
   "execution_count": 226,
   "metadata": {},
   "outputs": [
    {
     "data": {
      "text/html": [
       "<div>\n",
       "<style scoped>\n",
       "    .dataframe tbody tr th:only-of-type {\n",
       "        vertical-align: middle;\n",
       "    }\n",
       "\n",
       "    .dataframe tbody tr th {\n",
       "        vertical-align: top;\n",
       "    }\n",
       "\n",
       "    .dataframe thead th {\n",
       "        text-align: right;\n",
       "    }\n",
       "</style>\n",
       "<table border=\"1\" class=\"dataframe\">\n",
       "  <thead>\n",
       "    <tr style=\"text-align: right;\">\n",
       "      <th></th>\n",
       "      <th>R1</th>\n",
       "      <th>theta1</th>\n",
       "      <th>Z1</th>\n",
       "      <th>R2</th>\n",
       "      <th>theta2</th>\n",
       "      <th>Z2</th>\n",
       "      <th>R3</th>\n",
       "      <th>theta3</th>\n",
       "      <th>Z3</th>\n",
       "    </tr>\n",
       "  </thead>\n",
       "  <tbody>\n",
       "    <tr>\n",
       "      <th>0</th>\n",
       "      <td>23.687500</td>\n",
       "      <td>-1.417398</td>\n",
       "      <td>153.852905</td>\n",
       "      <td>26.562500</td>\n",
       "      <td>-1.417398</td>\n",
       "      <td>166.657104</td>\n",
       "      <td>26.5625</td>\n",
       "      <td>-1.417398</td>\n",
       "      <td>180.883911</td>\n",
       "    </tr>\n",
       "    <tr>\n",
       "      <th>1</th>\n",
       "      <td>15.062500</td>\n",
       "      <td>-0.190214</td>\n",
       "      <td>155.247925</td>\n",
       "      <td>6.437500</td>\n",
       "      <td>-2.345968</td>\n",
       "      <td>165.262085</td>\n",
       "      <td>9.3125</td>\n",
       "      <td>-0.574731</td>\n",
       "      <td>178.795044</td>\n",
       "    </tr>\n",
       "    <tr>\n",
       "      <th>2</th>\n",
       "      <td>12.187500</td>\n",
       "      <td>-1.364220</td>\n",
       "      <td>155.247925</td>\n",
       "      <td>9.312500</td>\n",
       "      <td>1.090149</td>\n",
       "      <td>168.745972</td>\n",
       "      <td>9.3125</td>\n",
       "      <td>-2.836842</td>\n",
       "      <td>178.795044</td>\n",
       "    </tr>\n",
       "    <tr>\n",
       "      <th>3</th>\n",
       "      <td>6.437500</td>\n",
       "      <td>-1.703741</td>\n",
       "      <td>151.764038</td>\n",
       "      <td>6.437500</td>\n",
       "      <td>-1.691469</td>\n",
       "      <td>168.745972</td>\n",
       "      <td>9.3125</td>\n",
       "      <td>-1.683288</td>\n",
       "      <td>178.795044</td>\n",
       "    </tr>\n",
       "    <tr>\n",
       "      <th>4</th>\n",
       "      <td>23.687499</td>\n",
       "      <td>-2.268246</td>\n",
       "      <td>153.852905</td>\n",
       "      <td>23.687499</td>\n",
       "      <td>-2.268246</td>\n",
       "      <td>166.657104</td>\n",
       "      <td>26.5625</td>\n",
       "      <td>-2.268246</td>\n",
       "      <td>180.883911</td>\n",
       "    </tr>\n",
       "  </tbody>\n",
       "</table>\n",
       "</div>"
      ],
      "text/plain": [
       "          R1    theta1          Z1         R2    theta2          Z2       R3  \\\n",
       "0  23.687500 -1.417398  153.852905  26.562500 -1.417398  166.657104  26.5625   \n",
       "1  15.062500 -0.190214  155.247925   6.437500 -2.345968  165.262085   9.3125   \n",
       "2  12.187500 -1.364220  155.247925   9.312500  1.090149  168.745972   9.3125   \n",
       "3   6.437500 -1.703741  151.764038   6.437500 -1.691469  168.745972   9.3125   \n",
       "4  23.687499 -2.268246  153.852905  23.687499 -2.268246  166.657104  26.5625   \n",
       "\n",
       "     theta3          Z3  \n",
       "0 -1.417398  180.883911  \n",
       "1 -0.574731  178.795044  \n",
       "2 -2.836842  178.795044  \n",
       "3 -1.683288  178.795044  \n",
       "4 -2.268246  180.883911  "
      ]
     },
     "execution_count": 226,
     "metadata": {},
     "output_type": "execute_result"
    }
   ],
   "source": [
    "track_list = process_tracks(branches)\n",
    "fake_track_list = make_fake_tracks_from_list(len(track_list),track_list)\n",
    "mc_track_list = append_true_track_feature(track_list)\n",
    "mc_and_fake_unshuffled = np.concatenate((fake_track_list,mc_track_list))\n",
    "mc_and_fake_shuffled = shuffle(mc_and_fake_unshuffled)\n",
    "training_frame = pd.DataFrame({'Truth':mc_and_fake_shuffled[:,-1],\n",
    "                               'L1X':mc_and_fake_shuffled[:,0],'L1Y':mc_and_fake_shuffled[:,1],'L1Z':mc_and_fake_shuffled[:,2]\n",
    "                               ,'L2X':mc_and_fake_shuffled[:,3],'L2Y':mc_and_fake_shuffled[:,4],'L2Z':mc_and_fake_shuffled[:,5]\n",
    "                               ,'L3X':mc_and_fake_shuffled[:,6],'L3Y':mc_and_fake_shuffled[:,7],'L3Z':mc_and_fake_shuffled[:,8]\n",
    "                               })\n",
    "training_features = training_frame.drop(\"Truth\",axis=1)\n",
    "training_labels = training_frame[\"Truth\"]\n",
    "training_features = linear_fit_implace(training_features)\n",
    "def cartesian_to_polar(row):\n",
    "    R1 = np.sqrt(row['L1X']**2 + row['L1Y']**2)\n",
    "    theta1 = np.arctan2(row['L1Y'],row['L1X'])\n",
    "    R2 = np.sqrt(row['L2X']**2 + row['L2Y']**2)\n",
    "    theta2 = np.arctan2(row['L2Y'],row['L2X'])\n",
    "    R3 = np.sqrt(row['L3X']**2 + row['L3Y']**2)\n",
    "    theta3 = np.arctan2(row['L3Y'],row['L3X'])\n",
    "    return pd.Series([R1, theta1, row['L1Z'], R2, theta2, row['L2Z'], R3, theta3, row['L3Z']], index=['R1', 'theta1','Z1', 'R2', 'theta2','Z2', 'R3', 'theta3','Z3'])\n",
    "training_features = training_features.apply(cartesian_to_polar, axis=1)"
   ]
  },
  {
   "cell_type": "code",
   "execution_count": 240,
   "metadata": {},
   "outputs": [
    {
     "name": "stdout",
     "output_type": "stream",
     "text": [
      "0.9063981042654028\n"
     ]
    }
   ],
   "source": [
    "from sklearn.tree import DecisionTreeClassifier\n",
    "from sklearn.model_selection import train_test_split\n",
    "\n",
    "X_train, X_test, y_train, y_test = train_test_split(training_features, training_labels)\n",
    "clf = DecisionTreeClassifier(random_state=0,max_depth=50,min_samples_split=10,min_samples_leaf=10,max_features='log2')\n",
    "clf.fit(X_train, y_train)\n",
    "print(clf.score(X_test, y_test))"
   ]
  },
  {
   "cell_type": "code",
   "execution_count": 231,
   "metadata": {},
   "outputs": [
    {
     "name": "stdout",
     "output_type": "stream",
     "text": [
      "Best Hyperparameters: {'max_depth': 30, 'min_samples_leaf': 1, 'min_samples_split': 5, 'n_estimators': 100}\n",
      "Tuned Random Forest Accuracy: 0.9721563981042654\n",
      "Tuned Random Forest Classification Report:\n",
      "              precision    recall  f1-score   support\n",
      "\n",
      "         0.0       0.96      0.99      0.97       858\n",
      "         1.0       0.99      0.95      0.97       830\n",
      "\n",
      "    accuracy                           0.97      1688\n",
      "   macro avg       0.97      0.97      0.97      1688\n",
      "weighted avg       0.97      0.97      0.97      1688\n",
      "\n"
     ]
    }
   ],
   "source": [
    "from sklearn.ensemble import RandomForestClassifier\n",
    "from sklearn.model_selection import train_test_split\n",
    "from sklearn.model_selection import cross_val_score\n",
    "from sklearn.metrics import accuracy_score, classification_report\n",
    "\n",
    "X_train, X_test, y_train, y_test = train_test_split(training_features, training_labels)\n",
    "clf = RandomForestClassifier()\n",
    "\n",
    "from sklearn.model_selection import GridSearchCV\n",
    "param_grid = {\n",
    "    'n_estimators': [50, 100, 200],\n",
    "    'max_depth': [None, 10, 20, 30],\n",
    "    'min_samples_split': [2, 5, 10],\n",
    "    'min_samples_leaf': [1, 2, 4],\n",
    "}\n",
    "grid_search = GridSearchCV(estimator=clf, param_grid=param_grid, cv=3, n_jobs=-4, verbose=0)\n",
    "grid_search.fit(X_train, y_train)\n",
    "print(\"Best Hyperparameters:\", grid_search.best_params_)\n",
    "best_rf_model = grid_search.best_estimator_\n",
    "tuned_rf_pred = best_rf_model.predict(X_test)\n",
    "print(\"Tuned Random Forest Accuracy:\", accuracy_score(y_test, tuned_rf_pred))\n",
    "print(\"Tuned Random Forest Classification Report:\")\n",
    "print(classification_report(y_test, tuned_rf_pred))"
   ]
  },
  {
   "cell_type": "code",
   "execution_count": 253,
   "metadata": {},
   "outputs": [
    {
     "name": "stderr",
     "output_type": "stream",
     "text": [
      "/Users/xihehan/anaconda3/envs/ml_env/lib/python3.9/site-packages/sklearn/neural_network/_multilayer_perceptron.py:702: ConvergenceWarning: Stochastic Optimizer: Maximum iterations (1) reached and the optimization hasn't converged yet.\n",
      "  warnings.warn(\n"
     ]
    },
    {
     "name": "stdout",
     "output_type": "stream",
     "text": [
      "Epoch 1/100 - Train Accuracy: 0.6228 - Test Accuracy: 0.6121\n",
      "Epoch 2/100 - Train Accuracy: 0.7908 - Test Accuracy: 0.7935\n",
      "Epoch 3/100 - Train Accuracy: 0.8630 - Test Accuracy: 0.8727\n",
      "Epoch 4/100 - Train Accuracy: 0.8819 - Test Accuracy: 0.8882\n",
      "Epoch 5/100 - Train Accuracy: 0.8998 - Test Accuracy: 0.9082\n",
      "Epoch 6/100 - Train Accuracy: 0.9115 - Test Accuracy: 0.9275\n",
      "Epoch 7/100 - Train Accuracy: 0.9198 - Test Accuracy: 0.9356\n",
      "Epoch 8/100 - Train Accuracy: 0.9291 - Test Accuracy: 0.9386\n",
      "Epoch 9/100 - Train Accuracy: 0.9324 - Test Accuracy: 0.9460\n",
      "Epoch 10/100 - Train Accuracy: 0.9372 - Test Accuracy: 0.9519\n",
      "Epoch 11/100 - Train Accuracy: 0.9402 - Test Accuracy: 0.9541\n",
      "Epoch 12/100 - Train Accuracy: 0.9417 - Test Accuracy: 0.9571\n",
      "Epoch 13/100 - Train Accuracy: 0.9433 - Test Accuracy: 0.9571\n",
      "Epoch 14/100 - Train Accuracy: 0.9450 - Test Accuracy: 0.9585\n",
      "Epoch 15/100 - Train Accuracy: 0.9472 - Test Accuracy: 0.9600\n",
      "Epoch 16/100 - Train Accuracy: 0.9496 - Test Accuracy: 0.9593\n",
      "Epoch 17/100 - Train Accuracy: 0.9500 - Test Accuracy: 0.9600\n",
      "Epoch 18/100 - Train Accuracy: 0.9504 - Test Accuracy: 0.9615\n",
      "Epoch 19/100 - Train Accuracy: 0.9511 - Test Accuracy: 0.9615\n",
      "Epoch 20/100 - Train Accuracy: 0.9519 - Test Accuracy: 0.9623\n",
      "Epoch 21/100 - Train Accuracy: 0.9526 - Test Accuracy: 0.9623\n",
      "Epoch 22/100 - Train Accuracy: 0.9524 - Test Accuracy: 0.9608\n",
      "Epoch 23/100 - Train Accuracy: 0.9524 - Test Accuracy: 0.9608\n",
      "Epoch 24/100 - Train Accuracy: 0.9526 - Test Accuracy: 0.9608\n",
      "Epoch 25/100 - Train Accuracy: 0.9528 - Test Accuracy: 0.9615\n",
      "Epoch 26/100 - Train Accuracy: 0.9530 - Test Accuracy: 0.9623\n",
      "Epoch 27/100 - Train Accuracy: 0.9539 - Test Accuracy: 0.9623\n",
      "Epoch 28/100 - Train Accuracy: 0.9545 - Test Accuracy: 0.9623\n",
      "Epoch 29/100 - Train Accuracy: 0.9548 - Test Accuracy: 0.9630\n",
      "Epoch 30/100 - Train Accuracy: 0.9552 - Test Accuracy: 0.9623\n",
      "Epoch 31/100 - Train Accuracy: 0.9552 - Test Accuracy: 0.9608\n",
      "Epoch 32/100 - Train Accuracy: 0.9548 - Test Accuracy: 0.9600\n",
      "Epoch 33/100 - Train Accuracy: 0.9550 - Test Accuracy: 0.9600\n",
      "Epoch 34/100 - Train Accuracy: 0.9554 - Test Accuracy: 0.9600\n",
      "Epoch 35/100 - Train Accuracy: 0.9556 - Test Accuracy: 0.9600\n",
      "Epoch 36/100 - Train Accuracy: 0.9557 - Test Accuracy: 0.9600\n",
      "Epoch 37/100 - Train Accuracy: 0.9557 - Test Accuracy: 0.9600\n",
      "Epoch 38/100 - Train Accuracy: 0.9556 - Test Accuracy: 0.9600\n",
      "Epoch 39/100 - Train Accuracy: 0.9563 - Test Accuracy: 0.9600\n",
      "Epoch 40/100 - Train Accuracy: 0.9572 - Test Accuracy: 0.9623\n",
      "Epoch 41/100 - Train Accuracy: 0.9574 - Test Accuracy: 0.9623\n",
      "Epoch 42/100 - Train Accuracy: 0.9580 - Test Accuracy: 0.9637\n",
      "Epoch 43/100 - Train Accuracy: 0.9582 - Test Accuracy: 0.9645\n",
      "Epoch 44/100 - Train Accuracy: 0.9589 - Test Accuracy: 0.9645\n",
      "Epoch 45/100 - Train Accuracy: 0.9596 - Test Accuracy: 0.9637\n",
      "Epoch 46/100 - Train Accuracy: 0.9598 - Test Accuracy: 0.9637\n",
      "Epoch 47/100 - Train Accuracy: 0.9600 - Test Accuracy: 0.9637\n",
      "Epoch 48/100 - Train Accuracy: 0.9598 - Test Accuracy: 0.9645\n",
      "Epoch 49/100 - Train Accuracy: 0.9600 - Test Accuracy: 0.9660\n",
      "Epoch 50/100 - Train Accuracy: 0.9602 - Test Accuracy: 0.9660\n",
      "Epoch 51/100 - Train Accuracy: 0.9600 - Test Accuracy: 0.9660\n",
      "Epoch 52/100 - Train Accuracy: 0.9598 - Test Accuracy: 0.9667\n",
      "Epoch 53/100 - Train Accuracy: 0.9602 - Test Accuracy: 0.9667\n",
      "Epoch 54/100 - Train Accuracy: 0.9604 - Test Accuracy: 0.9667\n",
      "Epoch 55/100 - Train Accuracy: 0.9604 - Test Accuracy: 0.9667\n",
      "Epoch 56/100 - Train Accuracy: 0.9607 - Test Accuracy: 0.9660\n",
      "Epoch 57/100 - Train Accuracy: 0.9604 - Test Accuracy: 0.9652\n",
      "Epoch 58/100 - Train Accuracy: 0.9606 - Test Accuracy: 0.9660\n",
      "Epoch 59/100 - Train Accuracy: 0.9609 - Test Accuracy: 0.9660\n",
      "Epoch 60/100 - Train Accuracy: 0.9609 - Test Accuracy: 0.9660\n",
      "Epoch 61/100 - Train Accuracy: 0.9607 - Test Accuracy: 0.9667\n",
      "Epoch 62/100 - Train Accuracy: 0.9607 - Test Accuracy: 0.9674\n",
      "Epoch 63/100 - Train Accuracy: 0.9611 - Test Accuracy: 0.9674\n",
      "Epoch 64/100 - Train Accuracy: 0.9620 - Test Accuracy: 0.9674\n",
      "Epoch 65/100 - Train Accuracy: 0.9622 - Test Accuracy: 0.9667\n",
      "Epoch 66/100 - Train Accuracy: 0.9626 - Test Accuracy: 0.9667\n",
      "Epoch 67/100 - Train Accuracy: 0.9630 - Test Accuracy: 0.9667\n",
      "Epoch 68/100 - Train Accuracy: 0.9630 - Test Accuracy: 0.9667\n",
      "Epoch 69/100 - Train Accuracy: 0.9632 - Test Accuracy: 0.9674\n",
      "Epoch 70/100 - Train Accuracy: 0.9632 - Test Accuracy: 0.9674\n",
      "Epoch 71/100 - Train Accuracy: 0.9635 - Test Accuracy: 0.9674\n",
      "Epoch 72/100 - Train Accuracy: 0.9646 - Test Accuracy: 0.9689\n",
      "Epoch 73/100 - Train Accuracy: 0.9650 - Test Accuracy: 0.9689\n",
      "Epoch 74/100 - Train Accuracy: 0.9654 - Test Accuracy: 0.9697\n",
      "Epoch 75/100 - Train Accuracy: 0.9657 - Test Accuracy: 0.9697\n",
      "Epoch 76/100 - Train Accuracy: 0.9654 - Test Accuracy: 0.9704\n",
      "Epoch 77/100 - Train Accuracy: 0.9661 - Test Accuracy: 0.9711\n",
      "Epoch 78/100 - Train Accuracy: 0.9665 - Test Accuracy: 0.9726\n",
      "Epoch 79/100 - Train Accuracy: 0.9663 - Test Accuracy: 0.9734\n",
      "Epoch 80/100 - Train Accuracy: 0.9669 - Test Accuracy: 0.9726\n",
      "Epoch 81/100 - Train Accuracy: 0.9667 - Test Accuracy: 0.9734\n",
      "Epoch 82/100 - Train Accuracy: 0.9669 - Test Accuracy: 0.9726\n",
      "Epoch 83/100 - Train Accuracy: 0.9674 - Test Accuracy: 0.9711\n",
      "Epoch 84/100 - Train Accuracy: 0.9674 - Test Accuracy: 0.9711\n",
      "Epoch 85/100 - Train Accuracy: 0.9680 - Test Accuracy: 0.9719\n",
      "Epoch 86/100 - Train Accuracy: 0.9682 - Test Accuracy: 0.9726\n",
      "Epoch 87/100 - Train Accuracy: 0.9676 - Test Accuracy: 0.9734\n",
      "Epoch 88/100 - Train Accuracy: 0.9685 - Test Accuracy: 0.9726\n",
      "Epoch 89/100 - Train Accuracy: 0.9683 - Test Accuracy: 0.9726\n",
      "Epoch 90/100 - Train Accuracy: 0.9691 - Test Accuracy: 0.9726\n",
      "Epoch 91/100 - Train Accuracy: 0.9691 - Test Accuracy: 0.9741\n",
      "Epoch 92/100 - Train Accuracy: 0.9691 - Test Accuracy: 0.9734\n",
      "Epoch 93/100 - Train Accuracy: 0.9693 - Test Accuracy: 0.9734\n",
      "Epoch 94/100 - Train Accuracy: 0.9683 - Test Accuracy: 0.9726\n",
      "Epoch 95/100 - Train Accuracy: 0.9683 - Test Accuracy: 0.9726\n",
      "Epoch 96/100 - Train Accuracy: 0.9685 - Test Accuracy: 0.9726\n",
      "Epoch 97/100 - Train Accuracy: 0.9689 - Test Accuracy: 0.9734\n",
      "Epoch 98/100 - Train Accuracy: 0.9689 - Test Accuracy: 0.9726\n",
      "Epoch 99/100 - Train Accuracy: 0.9695 - Test Accuracy: 0.9726\n",
      "Epoch 100/100 - Train Accuracy: 0.9695 - Test Accuracy: 0.9741\n"
     ]
    },
    {
     "data": {
      "image/png": "[encoded data removed]",
      "text/plain": [
       "<Figure size 640x480 with 1 Axes>"
      ]
     },
     "metadata": {},
     "output_type": "display_data"
    }
   ],
   "source": [
    "import numpy as np\n",
    "import matplotlib.pyplot as plt\n",
    "from sklearn.neural_network import MLPClassifier\n",
    "from sklearn.model_selection import train_test_split\n",
    "from sklearn.preprocessing import StandardScaler, PolynomialFeatures\n",
    "from sklearn.pipeline import Pipeline\n",
    "from sklearn.metrics import accuracy_score\n",
    "\n",
    "# Split the dataset\n",
    "X_train, X_test, y_train, y_test = train_test_split(training_features, training_labels, test_size=0.2, random_state=42)\n",
    "\n",
    "# Define the pipeline\n",
    "pipeline = Pipeline([\n",
    "    ('poly', PolynomialFeatures(degree=1)), \n",
    "    ('scaler', StandardScaler()),  # Standardize featuresA\n",
    "])\n",
    "\n",
    "# Transform the data\n",
    "X_train = pipeline.fit_transform(X_train)\n",
    "X_test = pipeline.transform(X_test)\n",
    "\n",
    "# Initialize the MLPClassifier\n",
    "mlp = MLPClassifier(\n",
    "    hidden_layer_sizes=(25, 25),\n",
    "    activation='relu',\n",
    "    solver='adam',\n",
    "    alpha=0.0001,\n",
    "    batch_size='auto',\n",
    "    learning_rate='constant',\n",
    "    learning_rate_init=0.001,\n",
    "    max_iter=1,  # We will handle epochs manually\n",
    "    warm_start=True,\n",
    "    random_state=1\n",
    ")\n",
    "\n",
    "# Number of epochs\n",
    "epochs = 100\n",
    "\n",
    "# Lists to store accuracy values\n",
    "train_accuracies = []\n",
    "test_accuracies = []\n",
    "\n",
    "# Custom training loop\n",
    "for epoch in range(epochs):\n",
    "    mlp.fit(X_train, y_train)\n",
    "    train_pred = mlp.predict(X_train)\n",
    "    test_pred = mlp.predict(X_test)\n",
    "    \n",
    "    train_accuracy = accuracy_score(y_train, train_pred)\n",
    "    test_accuracy = accuracy_score(y_test, test_pred)\n",
    "    \n",
    "    train_accuracies.append(train_accuracy)\n",
    "    test_accuracies.append(test_accuracy)\n",
    "    \n",
    "    print(f'Epoch {epoch + 1}/{epochs} - Train Accuracy: {train_accuracy:.4f} - Test Accuracy: {test_accuracy:.4f}')\n",
    "\n",
    "# Plotting the accuracies\n",
    "plt.plot(range(1, epochs + 1), train_accuracies, label='Train Accuracy')\n",
    "plt.plot(range(1, epochs + 1), test_accuracies, label='Test Accuracy')\n",
    "plt.xlabel('Epochs')\n",
    "plt.ylabel('Accuracy')\n",
    "plt.title('Training and Test Accuracy per Epoch')\n",
    "plt.legend()\n",
    "plt.grid(True)\n",
    "plt.show()\n"
   ]
  },
  {
   "cell_type": "code",
   "execution_count": 254,
   "metadata": {},
   "outputs": [
    {
     "name": "stdout",
     "output_type": "stream",
     "text": [
      "Cross-Validation Accuracy Scores: [0.97631384 0.96521095 0.95851852 0.96814815 0.97481481]\n",
      "Mean Cross-Validation Accuracy: 0.97\n"
     ]
    }
   ],
   "source": [
    "from sklearn.model_selection import cross_val_score\n",
    "\n",
    "# Define the pipeline without fitting\n",
    "pipeline = Pipeline([\n",
    "    ('poly', PolynomialFeatures(degree=1)),  # Adjust degree as needed\n",
    "    ('scaler', StandardScaler()),  # Standardize features\n",
    "    ('mlp', MLPClassifier(\n",
    "        hidden_layer_sizes=(25,25),\n",
    "        activation='relu',\n",
    "        solver='adam',\n",
    "        alpha=0.0001,\n",
    "        batch_size='auto',\n",
    "        learning_rate='constant',\n",
    "        learning_rate_init=0.001,\n",
    "        max_iter=1000,\n",
    "        random_state=1\n",
    "    ))\n",
    "])\n",
    "\n",
    "# Perform cross-validation\n",
    "cv_scores = cross_val_score(pipeline, training_features, training_labels, cv=5)\n",
    "\n",
    "print(f'Cross-Validation Accuracy Scores: {cv_scores}')\n",
    "print(f'Mean Cross-Validation Accuracy: {cv_scores.mean():.2f}')\n"
   ]
  },
  {
   "cell_type": "code",
   "execution_count": null,
   "metadata": {},
   "outputs": [],
   "source": []
  }
 ],
 "metadata": {
  "kernelspec": {
   "display_name": "ml_env",
   "language": "python",
   "name": "python3"
  },
  "language_info": {
   "codemirror_mode": {
    "name": "ipython",
    "version": 3
   },
   "file_extension": ".py",
   "mimetype": "text/x-python",
   "name": "python",
   "nbconvert_exporter": "python",
   "pygments_lexer": "ipython3",
   "version": "3.9.15"
  }
 },
 "nbformat": 4,
 "nbformat_minor": 2
}
